{
 "cells": [
  {
   "cell_type": "code",
   "execution_count": null,
   "id": "bebfb91f-a10d-4f0b-80eb-6ee84f8260be",
   "metadata": {},
   "outputs": [],
   "source": [
    "\"\"\"\n",
    "Учитывая массив целых чисел nums и целое число target, верните индексы двух чисел таким\n",
    "образом, чтобы они в сумме равнялись target.\n",
    "\n",
    "Вы можете предположить, что для каждого ввода будет ровно одно решение и что вы не будете\n",
    "использовать один и тот же элемент дважды.\n",
    "\n",
    "Вы можете вернуть ответ в любом порядке.\n",
    "\"\"\""
   ]
  },
  {
   "cell_type": "code",
   "execution_count": null,
   "id": "22094cb0-df8c-44ca-adf1-8199ac71727a",
   "metadata": {},
   "outputs": [],
   "source": [
    "# Решение за O (n^2)\n",
    "\n",
    "class Solution:\n",
    "    def twoSum(self, nums: List[int], target: int) -> List[int]:\n",
    "        l = len (nums)\n",
    "        for i in range (l):\n",
    "            for j in range (i + 1, l):\n",
    "                if nums[i] + nums[j] == target:\n",
    "                    return [i, j]"
   ]
  },
  {
   "cell_type": "code",
   "execution_count": null,
   "id": "cea79d13-25a1-4128-b2a8-f3cc899a3a60",
   "metadata": {},
   "outputs": [],
   "source": [
    "# Решение за O (n log n)\n",
    "\n",
    "class Solution:\n",
    "    def twoSum(self, nums: List[int], target: int) -> List[int]:\n",
    "        arr = [(num, i) for i, num in enumerate (nums)]\n",
    "        arr.sort (key = lambda x: x[0]) # сортировка O (n log n)\n",
    "    \n",
    "        left, right = 0, len (arr) - 1\n",
    "        while left < right:\n",
    "            s = arr[left][0] + arr[right][0]\n",
    "            if s == target:\n",
    "                return [arr[left][1], arr[right][1]]\n",
    "            elif s < target:\n",
    "                left += 1\n",
    "            else:\n",
    "                right -= 1"
   ]
  },
  {
   "cell_type": "code",
   "execution_count": null,
   "id": "40f73d4d-481d-48d2-9cc1-7d52b4bbc907",
   "metadata": {},
   "outputs": [],
   "source": [
    "# Решение за O (n)\n",
    "\n",
    "class Solution:\n",
    "    def twoSum(self, nums: List[int], target: int) -> List[int]:\n",
    "        seen = {} # число: индекс\n",
    "        for i, num in enumerate (nums):\n",
    "            need = target - num\n",
    "            if need in seen: # находит ключ в среднем за O (1)\n",
    "                return [seen[need], i]\n",
    "            seen[num] = i"
   ]
  }
 ],
 "metadata": {
  "kernelspec": {
   "display_name": "Python 3 (ipykernel)",
   "language": "python",
   "name": "python3"
  },
  "language_info": {
   "codemirror_mode": {
    "name": "ipython",
    "version": 3
   },
   "file_extension": ".py",
   "mimetype": "text/x-python",
   "name": "python",
   "nbconvert_exporter": "python",
   "pygments_lexer": "ipython3",
   "version": "3.12.6"
  }
 },
 "nbformat": 4,
 "nbformat_minor": 5
}
