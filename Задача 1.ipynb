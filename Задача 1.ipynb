{
 "cells": [
  {
   "cell_type": "code",
   "execution_count": 1,
   "id": "c1ce44f3-0d17-49bb-98f2-15e362487fd5",
   "metadata": {},
   "outputs": [
    {
     "name": "stdin",
     "output_type": "stream",
     "text": [
      " 13\n",
      " 1 2\n",
      " 0 3 4 5\n",
      " 0 6 7 8\n",
      " 0 1 4\n",
      " 1 3 5\n",
      " 1 9 10\n",
      " 0 2 7\n",
      " 2 6 8\n",
      " 2 11 12\n",
      " 5 10\n",
      " 5 9\n",
      " 8 12\n",
      " 8 11\n",
      " 1\n",
      " 2\n"
     ]
    },
    {
     "data": {
      "text/plain": [
       "[2, 9, 10]"
      ]
     },
     "execution_count": 1,
     "metadata": {},
     "output_type": "execute_result"
    }
   ],
   "source": [
    "\"\"\"\n",
    "Задача 1. Дан произвольный неориентированный невзвешенный связный граф с числом вершин N.\n",
    "Дана вершина s в этом графе и число 1 <= k <= N. Найти множество вершин, находящихся на\n",
    "расстоянии k (расстояние минимальное) от заданной вершины s.\n",
    "\"\"\"\n",
    "\n",
    "from collections import deque\n",
    "\n",
    "\"\"\"\n",
    "N - количество вершин в графе\n",
    "adj - список смежности\n",
    "s - стартовая вершина\n",
    "k - расстояние от вершины s\n",
    "\n",
    "Возвращает отсортированный список вершин, находящихся на минимальном расстоянии k от s.\n",
    "\"\"\"\n",
    "def vertices_at_distance_k (N, adj, s, k):\n",
    "    if k < 0:\n",
    "        return []\n",
    "    if k == 0:\n",
    "        return [s]\n",
    "    # dist[v] == -1 означает, что вершина v \"не посещена\"\n",
    "    dist = [-1] * N\n",
    "    queue = deque ()\n",
    "    dist[s] = 0\n",
    "    queue.append (s)\n",
    "    while queue:\n",
    "        v = queue.popleft ()\n",
    "        \"\"\"\n",
    "        Оптимизация по времени: если dist[v] == k, то можно не добавлять соседей вершины\n",
    "        v в очередь и в список расстояний, так как расстояние до них будет больше, чем k.\n",
    "        \"\"\"\n",
    "        if dist[v] == k:\n",
    "            continue\n",
    "        for u in adj[v]:\n",
    "            if dist[u] == -1:\n",
    "                dist[u] = dist[v] + 1\n",
    "                queue.append (u)\n",
    "\n",
    "    # Создадим список res с вершинами v с dist[v] == k\n",
    "    res = []\n",
    "    for vertex, distance in enumerate (dist):\n",
    "        if distance == k:\n",
    "            res.append (vertex)\n",
    "    return sorted (res)\n",
    "\n",
    "N = int (input ())\n",
    "adj = []\n",
    "for _ in range (N):\n",
    "    adj.append (list (map (int, input ().split ())))\n",
    "s = int (input ())\n",
    "k = int (input ())\n",
    "vertices_at_distance_k (N, adj, s, k)"
   ]
  }
 ],
 "metadata": {
  "kernelspec": {
   "display_name": "Python 3 (ipykernel)",
   "language": "python",
   "name": "python3"
  },
  "language_info": {
   "codemirror_mode": {
    "name": "ipython",
    "version": 3
   },
   "file_extension": ".py",
   "mimetype": "text/x-python",
   "name": "python",
   "nbconvert_exporter": "python",
   "pygments_lexer": "ipython3",
   "version": "3.12.6"
  }
 },
 "nbformat": 4,
 "nbformat_minor": 5
}
